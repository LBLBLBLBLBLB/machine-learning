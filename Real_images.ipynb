{
  "nbformat": 4,
  "nbformat_minor": 0,
  "metadata": {
    "colab": {
      "provenance": [],
      "gpuType": "T4",
      "authorship_tag": "ABX9TyM2uW2gf2TXpo6t1Edim7dN"
    },
    "kernelspec": {
      "name": "python3",
      "display_name": "Python 3"
    },
    "language_info": {
      "name": "python"
    },
    "accelerator": "GPU",
    "gpuClass": "standard"
  },
  "cells": [
    {
      "cell_type": "code",
      "execution_count": null,
      "metadata": {
        "id": "aCVNlme8ORU_"
      },
      "outputs": [],
      "source": [
        "from google.colab import drive\n",
        "drive.mount('/content/drive')"
      ]
    },
    {
      "cell_type": "code",
      "source": [
        "#unzip file from drive\n",
        "!unzip '/content/drive/My Drive/Colab Notebooks/seg_train.zip'"
      ],
      "metadata": {
        "id": "XvUMD7gmQnAS"
      },
      "execution_count": null,
      "outputs": []
    },
    {
      "cell_type": "code",
      "source": [
        "import cv2\n",
        "import os\n",
        "import numpy as np\n",
        "from keras.models import Sequential\n",
        "from keras.layers import Dense,Conv2D,MaxPooling2D,Flatten\n",
        "from keras.utils import np_utils\n",
        "from sklearn.model_selection import train_test_split\n",
        "parent_directory =\"seg_train\"\n",
        "X =[]\n",
        "y =[]"
      ],
      "metadata": {
        "id": "smQ0bNAQUH7d"
      },
      "execution_count": null,
      "outputs": []
    },
    {
      "cell_type": "code",
      "source": [
        "for directory in  os.listdir(parent_directory):\n",
        "    full_directory =os.path.join(parent_directory,directory)\n",
        "    # print(full_directory)\n",
        "    for file in os.listdir(full_directory):\n",
        "        file_path =os.path.join(full_directory,file)\n",
        "        image =cv2.imread(file_path)\n",
        "        image =cv2.resize(image,(28,28))\n",
        "        X.append(image)\n",
        "        if file_path.find(\"buildings\")!=-1:\n",
        "            y.append(0)\n",
        "        elif file_path.find(\"forest\")!=-1:\n",
        "            y.append(1)\n",
        "        elif file_path.find(\"glacier\")!=-1:\n",
        "            y.append(2)\n",
        "        elif file_path.find(\"mountain\")!=-1:\n",
        "            y.append(3)\n",
        "        elif file_path.find(\"sea\")!=-1:\n",
        "            y.append(4)\n",
        "        elif file_path.find(\"street\")!=-1:\n",
        "            y.append(5)\n",
        "X =np.array(X)\n",
        "y =np.array(y)"
      ],
      "metadata": {
        "id": "5eVpb-qNUb3P"
      },
      "execution_count": null,
      "outputs": []
    },
    {
      "cell_type": "code",
      "source": [
        "X_train,X_test,y_train,y_test =train_test_split(X,y,test_size=0.3,random_state=1)"
      ],
      "metadata": {
        "id": "bnmgnbVPVf_N"
      },
      "execution_count": null,
      "outputs": []
    },
    {
      "cell_type": "code",
      "source": [
        "X_train =X_train.astype('float32') /255.0\n",
        "X_test =X_test.astype('float32') /255.0"
      ],
      "metadata": {
        "id": "rw_osVvOVnA3"
      },
      "execution_count": null,
      "outputs": []
    },
    {
      "cell_type": "code",
      "source": [
        "y_train =np_utils.to_categorical(y_train)\n",
        "y_test =np_utils.to_categorical(y_test)"
      ],
      "metadata": {
        "id": "J7OyPA3JWRHM"
      },
      "execution_count": null,
      "outputs": []
    },
    {
      "cell_type": "code",
      "source": [
        "model =Sequential()\n",
        "model.add(Conv2D(filters=70,kernel_size=(3,3),input_shape =X_train.shape[1:],activation='relu',padding='same'))\n",
        "model.add(MaxPooling2D(pool_size=(2,2),padding='same'))\n",
        "model.add(Conv2D(filters=40,kernel_size=(3,3),activation='relu',padding='same'))\n",
        "model.add(MaxPooling2D(pool_size=(2,2),padding='same'))\n",
        "model.add(Conv2D(filters=30,kernel_size=(3,3),activation='relu',padding='same'))\n",
        "model.add(MaxPooling2D(pool_size=(2,2),padding='same'))\n",
        "model.add(Conv2D(filters=20,kernel_size=(3,3),activation='relu',padding='same'))\n",
        "model.add(MaxPooling2D(pool_size=(2,2),padding='same'))\n",
        "model.add(Conv2D(filters=10,kernel_size=(3,3),activation='relu',padding='same'))\n",
        "model.add(MaxPooling2D(pool_size=(2,2),padding='same'))\n",
        "model.add(Flatten())\n",
        "model.add(Dense(units=50,activation='relu'))\n",
        "model.add(Dense(units=40,activation='relu'))\n",
        "model.add(Dense(units=30,activation='relu'))\n",
        "model.add(Dense(units=30,activation='relu'))\n",
        "model.add(Dense(units=y_train.shape[1],activation='softmax'))\n",
        "model.compile(optimizer='sgd',loss='categorical_crossentropy',metrics=['accuracy'])\n",
        "model.fit(X_train,y_train,batch_size=70,epochs=7,validation_data =(X_test,y_test),verbose=1)"
      ],
      "metadata": {
        "id": "gnt3lRxRXhJG"
      },
      "execution_count": null,
      "outputs": []
    }
  ]
}