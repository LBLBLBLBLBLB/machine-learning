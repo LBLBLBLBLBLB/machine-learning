{
  "nbformat": 4,
  "nbformat_minor": 0,
  "metadata": {
    "colab": {
      "provenance": [],
      "gpuType": "T4",
      "authorship_tag": "ABX9TyMo2U9zpoD8L1RrTHbb4Y7W"
    },
    "kernelspec": {
      "name": "python3",
      "display_name": "Python 3"
    },
    "language_info": {
      "name": "python"
    },
    "accelerator": "GPU",
    "gpuClass": "standard"
  },
  "cells": [
    {
      "cell_type": "code",
      "execution_count": null,
      "metadata": {
        "id": "PDDE2El2QUJ5"
      },
      "outputs": [],
      "source": [
        "from google.colab import drive\n",
        "drive.mount('/content/drive')"
      ]
    },
    {
      "cell_type": "code",
      "source": [
        "!unzip '/content/drive/My Drive/Colab Notebooks/data.zip'"
      ],
      "metadata": {
        "id": "8yOe48O5d31r"
      },
      "execution_count": null,
      "outputs": []
    },
    {
      "cell_type": "code",
      "source": [
        "import cv2\n",
        "import os\n",
        "import numpy as np\n",
        "from keras.models import Sequential\n",
        "from keras.layers import Dense,Conv2D,MaxPooling2D,Flatten\n",
        "from keras.utils import np_utils\n",
        "from sklearn.model_selection import train_test_split\n",
        "parent_directory =\"data\"\n",
        "X =[]\n",
        "y =[]"
      ],
      "metadata": {
        "id": "QX-sKKprf4NR"
      },
      "execution_count": null,
      "outputs": []
    },
    {
      "cell_type": "code",
      "source": [
        "for directory in  os.listdir(parent_directory):\n",
        "    full_directory =os.path.join(parent_directory,directory)\n",
        "    print(full_directory)\n",
        "    for file in os.listdir(full_directory):\n",
        "        file_path =os.path.join(full_directory,file)\n",
        "        image =cv2.imread(file_path)\n",
        "        image =cv2.resize(image,(32,32))\n",
        "        X.append(image)\n",
        "        if file_path.find(\"dloudy\")!=-1:\n",
        "            y.append(0)\n",
        "        elif file_path.find(\"desert\")!=-1:\n",
        "            y.append(1)\n",
        "        elif file_path.find(\"green_area\")!=-1:\n",
        "            y.append(2)\n",
        "        elif file_path.find(\"water\")!=-1:\n",
        "            y.append(3)\n",
        "X =np.array(X)\n",
        "y =np.array(y)"
      ],
      "metadata": {
        "id": "1bVrQvJDf7ay"
      },
      "execution_count": null,
      "outputs": []
    },
    {
      "cell_type": "code",
      "source": [
        "X_train,X_test,y_train,y_test =train_test_split(X,y,test_size=0.3,random_state=1)"
      ],
      "metadata": {
        "id": "J79OmKI4gVba"
      },
      "execution_count": null,
      "outputs": []
    },
    {
      "cell_type": "code",
      "source": [
        "X_train =X_train.astype('float32') /255.0\n",
        "X_test =X_test.astype('float32') /255.0"
      ],
      "metadata": {
        "id": "L9A9hUSpgdqZ"
      },
      "execution_count": null,
      "outputs": []
    },
    {
      "cell_type": "code",
      "source": [
        "y_train =np_utils.to_categorical(y_train)\n",
        "y_test =np_utils.to_categorical(y_test)"
      ],
      "metadata": {
        "id": "eMFMwSobgh6B"
      },
      "execution_count": null,
      "outputs": []
    },
    {
      "cell_type": "code",
      "source": [
        "model =Sequential()\n",
        "model.add(Conv2D(filters=8,kernel_size=(3,3),input_shape =X_train.shape[1:],activation='relu',padding='same'))\n",
        "model.add(MaxPooling2D(pool_size=(2,2),padding='same'))\n",
        "model.add(Conv2D(filters=16,kernel_size=(3,3),activation='relu',padding='same'))\n",
        "model.add(MaxPooling2D(pool_size=(2,2),padding='same'))\n",
        "model.add(Conv2D(filters=32,kernel_size=(3,3),activation='relu',padding='same'))\n",
        "model.add(MaxPooling2D(pool_size=(2,2),padding='same'))\n",
        "model.add(Conv2D(filters=64,kernel_size=(3,3),activation='relu',padding='same'))\n",
        "model.add(MaxPooling2D(pool_size=(2,2),padding='same'))\n",
        "model.add(Conv2D(filters=128,kernel_size=(3,3),activation='relu',padding='same'))\n",
        "model.add(MaxPooling2D(pool_size=(2,2),padding='same'))\n",
        "model.add(Conv2D(filters=256,kernel_size=(3,3),activation='relu',padding='same'))\n",
        "model.add(MaxPooling2D(pool_size=(2,2),padding='same'))\n",
        "model.add(Flatten())\n",
        "model.add(Dense(units=30,activation='relu'))\n",
        "model.add(Dense(units=38,activation='relu'))\n",
        "model.add(Dense(units=46,activation='relu'))\n",
        "model.add(Dense(units=54,activation='relu'))\n",
        "model.add(Dense(units=62,activation='relu'))\n",
        "model.add(Dense(units=70,activation='relu'))\n",
        "model.add(Dense(units=y_train.shape[1],activation='softmax'))\n",
        "model.compile(optimizer='sgd',loss='categorical_crossentropy',metrics=['accuracy'])\n",
        "model.fit(X_train,y_train,batch_size=500,epochs=200,validation_data =(X_test,y_test),verbose=1)"
      ],
      "metadata": {
        "id": "ni94aWc-gk0s"
      },
      "execution_count": null,
      "outputs": []
    }
  ]
}