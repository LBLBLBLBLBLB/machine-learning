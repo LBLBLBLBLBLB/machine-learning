{
  "cells": [
    {
      "cell_type": "code",
      "execution_count": null,
      "metadata": {
        "colab": {
          "base_uri": "https://localhost:8080/"
        },
        "id": "ftuLQbdLzTdy",
        "outputId": "9383a83c-b623-4e6d-e4f9-aa71596af54e"
      },
      "outputs": [
        {
          "name": "stdout",
          "output_type": "stream",
          "text": [
            "Mounted at /content/drive\n"
          ]
        }
      ],
      "source": [
        "from google.colab import drive\n",
        "drive.mount('/content/drive')"
      ]
    },
    {
      "cell_type": "code",
      "execution_count": null,
      "metadata": {
        "id": "ixvCil9i3NRs"
      },
      "outputs": [],
      "source": [
        "# !unzip '/content/drive/My Drive/Colab Notebooks/images.zip' -d '/content/drive/My Drive/Colab Notebooks'"
      ]
    },
    {
      "cell_type": "code",
      "execution_count": null,
      "metadata": {
        "colab": {
          "background_save": true
        },
        "id": "xdfeOcOR4cKQ"
      },
      "outputs": [],
      "source": [
        "path ='/content/drive/My Drive/Colab Notebooks/images'\n",
        "image_array =[]\n",
        "import os\n",
        "import cv2\n",
        "import numpy as np\n",
        "\n",
        "for filename in os.listdir(path):\n",
        "  full_path =os.path.join(path,filename)\n",
        "  image =cv2.imread(full_path,0)\n",
        "  image =cv2.resize(image,(700,700))\n",
        "  image_array.append(image)\n"
      ]
    },
    {
      "cell_type": "code",
      "execution_count": null,
      "metadata": {
        "colab": {
          "background_save": true
        },
        "id": "EVUYc8He6vnp",
        "outputId": "3165890e-c706-4023-bbed-95597e13cd0e"
      },
      "outputs": [
        {
          "data": {
            "text/plain": [
              "(7384, 700, 700)"
            ]
          },
          "execution_count": 4,
          "metadata": {},
          "output_type": "execute_result"
        }
      ],
      "source": [
        "image_array = np.array(image_array)\n",
        "image_array.shape"
      ]
    },
    {
      "cell_type": "code",
      "execution_count": null,
      "metadata": {
        "colab": {
          "background_save": true
        },
        "id": "WWEstKMn8VIP",
        "outputId": "5d067cda-582a-4c01-8f18-2d253f2032e7"
      },
      "outputs": [
        {
          "data": {
            "text/plain": [
              "(7384, 490000)"
            ]
          },
          "execution_count": 5,
          "metadata": {},
          "output_type": "execute_result"
        }
      ],
      "source": [
        "image_array =image_array.reshape(image_array.shape[0],image_array.shape[1]*image_array.shape[2])\n",
        "image_array.shape"
      ]
    },
    {
      "cell_type": "code",
      "execution_count": null,
      "metadata": {
        "colab": {
          "background_save": true
        },
        "id": "yMSCui1x9zxc"
      },
      "outputs": [],
      "source": [
        "unique_names =set()\n",
        "import re\n",
        "for file in os.listdir('/content/drive/My Drive/Colab Notebooks/images'):\n",
        "  name= re.split(r'_(?=\\d+\\.[a-z]+$)', file)[0]\n",
        "  unique_names.add(name)"
      ]
    },
    {
      "cell_type": "code",
      "execution_count": null,
      "metadata": {
        "colab": {
          "background_save": true
        },
        "id": "sXjhbQxO-IUV",
        "outputId": "ac84d18c-a19b-4cf1-fde0-a81908fb685a"
      },
      "outputs": [
        {
          "data": {
            "text/plain": [
              "{'Abyssinian',\n",
              " 'Bengal',\n",
              " 'Birman',\n",
              " 'Bombay',\n",
              " 'British_Shorthair',\n",
              " 'Egyptian_Mau',\n",
              " 'Maine_Coon',\n",
              " 'Persian',\n",
              " 'Ragdoll',\n",
              " 'Russian_Blue',\n",
              " 'Siamese',\n",
              " 'Sphynx',\n",
              " 'american_bulldog',\n",
              " 'american_pit_bull_terrier',\n",
              " 'basset_hound',\n",
              " 'beagle',\n",
              " 'boxer',\n",
              " 'chihuahua',\n",
              " 'english_cocker_spaniel',\n",
              " 'english_setter',\n",
              " 'german_shorthaired',\n",
              " 'great_pyrenees',\n",
              " 'havanese',\n",
              " 'japanese_chin',\n",
              " 'keeshond',\n",
              " 'leonberger',\n",
              " 'miniature_pinscher',\n",
              " 'newfoundland',\n",
              " 'pomeranian',\n",
              " 'pug',\n",
              " 'saint_bernard',\n",
              " 'samoyed',\n",
              " 'scottish_terrier',\n",
              " 'shiba_inu',\n",
              " 'staffordshire_bull_terrier',\n",
              " 'wheaten_terrier',\n",
              " 'yorkshire_terrier'}"
            ]
          },
          "execution_count": 7,
          "metadata": {},
          "output_type": "execute_result"
        }
      ],
      "source": [
        "unique_names"
      ]
    },
    {
      "cell_type": "code",
      "execution_count": null,
      "metadata": {
        "colab": {
          "background_save": true
        },
        "id": "twnXKXIL_Is-"
      },
      "outputs": [],
      "source": [
        "unique_names =sorted(unique_names)"
      ]
    },
    {
      "cell_type": "code",
      "execution_count": null,
      "metadata": {
        "colab": {
          "background_save": true
        },
        "id": "3SxPWPTO-amc",
        "outputId": "92de680f-6d83-45ad-f04e-a3673c0f26ae"
      },
      "outputs": [
        {
          "data": {
            "text/plain": [
              "['Abyssinian',\n",
              " 'Bengal',\n",
              " 'Birman',\n",
              " 'Bombay',\n",
              " 'British_Shorthair',\n",
              " 'Egyptian_Mau',\n",
              " 'Maine_Coon',\n",
              " 'Persian',\n",
              " 'Ragdoll',\n",
              " 'Russian_Blue',\n",
              " 'Siamese',\n",
              " 'Sphynx',\n",
              " 'american_bulldog',\n",
              " 'american_pit_bull_terrier',\n",
              " 'basset_hound',\n",
              " 'beagle',\n",
              " 'boxer',\n",
              " 'chihuahua',\n",
              " 'english_cocker_spaniel',\n",
              " 'english_setter',\n",
              " 'german_shorthaired',\n",
              " 'great_pyrenees',\n",
              " 'havanese',\n",
              " 'japanese_chin',\n",
              " 'keeshond',\n",
              " 'leonberger',\n",
              " 'miniature_pinscher',\n",
              " 'newfoundland',\n",
              " 'pomeranian',\n",
              " 'pug',\n",
              " 'saint_bernard',\n",
              " 'samoyed',\n",
              " 'scottish_terrier',\n",
              " 'shiba_inu',\n",
              " 'staffordshire_bull_terrier',\n",
              " 'wheaten_terrier',\n",
              " 'yorkshire_terrier']"
            ]
          },
          "execution_count": 9,
          "metadata": {},
          "output_type": "execute_result"
        }
      ],
      "source": [
        "unique_names"
      ]
    },
    {
      "cell_type": "code",
      "execution_count": null,
      "metadata": {
        "colab": {
          "background_save": true
        },
        "id": "QA2ueVii-jHd"
      },
      "outputs": [],
      "source": [
        "labels =[]\n",
        "for file in os.listdir('/content/drive/My Drive/Colab Notebooks/images'):\n",
        "  name= re.split(r'_(?=\\d+\\.[a-z]+$)', file)[0]\n",
        "  labels.append(unique_names.index(name))"
      ]
    },
    {
      "cell_type": "code",
      "execution_count": null,
      "metadata": {
        "colab": {
          "background_save": true
        },
        "id": "UjtcsRuN-uON",
        "outputId": "bff0cd0a-8405-42cd-ff98-56c6aa51fb01"
      },
      "outputs": [
        {
          "data": {
            "text/plain": [
              "array([30,  7, 20, ...,  0,  3, 30])"
            ]
          },
          "execution_count": 11,
          "metadata": {},
          "output_type": "execute_result"
        }
      ],
      "source": [
        "labels =np.array(labels)\n",
        "labels"
      ]
    },
    {
      "cell_type": "code",
      "execution_count": null,
      "metadata": {
        "colab": {
          "background_save": true
        },
        "id": "rc6B5He5_QbW"
      },
      "outputs": [],
      "source": [
        "import keras\n",
        "from keras.utils import np_utils"
      ]
    },
    {
      "cell_type": "code",
      "execution_count": null,
      "metadata": {
        "colab": {
          "background_save": true
        },
        "id": "4zLzA52y_Wuu"
      },
      "outputs": [],
      "source": [
        "labels = np_utils.to_categorical(labels)"
      ]
    },
    {
      "cell_type": "code",
      "execution_count": null,
      "metadata": {
        "colab": {
          "background_save": true
        },
        "id": "HDjZNXXG_cWr",
        "outputId": "f2c40de7-4f37-4722-886a-307d1eb1795c"
      },
      "outputs": [
        {
          "data": {
            "text/plain": [
              "array([[0., 0., 0., ..., 0., 0., 0.],\n",
              "       [0., 0., 0., ..., 0., 0., 0.],\n",
              "       [0., 0., 0., ..., 0., 0., 0.],\n",
              "       ...,\n",
              "       [1., 0., 0., ..., 0., 0., 0.],\n",
              "       [0., 0., 0., ..., 0., 0., 0.],\n",
              "       [0., 0., 0., ..., 0., 0., 0.]], dtype=float32)"
            ]
          },
          "execution_count": 14,
          "metadata": {},
          "output_type": "execute_result"
        }
      ],
      "source": [
        "labels"
      ]
    },
    {
      "cell_type": "code",
      "execution_count": null,
      "metadata": {
        "colab": {
          "background_save": true
        },
        "id": "epQROC_hAXXo"
      },
      "outputs": [],
      "source": [
        "from keras.models import Sequential\n",
        "from keras.layers import Dense"
      ]
    },
    {
      "cell_type": "code",
      "execution_count": null,
      "metadata": {
        "colab": {
          "background_save": true
        },
        "id": "t_xQHidTAhIt",
        "outputId": "d407e1c1-fb64-4a82-afe5-8c18f3dff686"
      },
      "outputs": [
        {
          "ename": "NameError",
          "evalue": "ignored",
          "output_type": "error",
          "traceback": [
            "\u001b[0;31m---------------------------------------------------------------------------\u001b[0m",
            "\u001b[0;31mNameError\u001b[0m                                 Traceback (most recent call last)",
            "\u001b[0;32m<ipython-input-16-46cebc80f5bf>\u001b[0m in \u001b[0;36m<module>\u001b[0;34m\u001b[0m\n\u001b[1;32m      1\u001b[0m \u001b[0mmodel\u001b[0m \u001b[0;34m=\u001b[0m \u001b[0mSequential\u001b[0m\u001b[0;34m(\u001b[0m\u001b[0;34m)\u001b[0m\u001b[0;34m\u001b[0m\u001b[0;34m\u001b[0m\u001b[0m\n\u001b[0;32m----> 2\u001b[0;31m \u001b[0mmodel\u001b[0m\u001b[0;34m.\u001b[0m\u001b[0madd\u001b[0m\u001b[0;34m(\u001b[0m\u001b[0mDense\u001b[0m\u001b[0;34m(\u001b[0m\u001b[0munits\u001b[0m \u001b[0;34m=\u001b[0m \u001b[0;36m1000\u001b[0m\u001b[0;34m,\u001b[0m \u001b[0mactivation\u001b[0m \u001b[0;34m=\u001b[0m \u001b[0;34m\"relu\"\u001b[0m\u001b[0;34m,\u001b[0m \u001b[0minput_dim\u001b[0m \u001b[0;34m=\u001b[0m \u001b[0mX_train\u001b[0m\u001b[0;34m.\u001b[0m\u001b[0mshape\u001b[0m\u001b[0;34m[\u001b[0m\u001b[0;36m1\u001b[0m\u001b[0;34m]\u001b[0m\u001b[0;34m)\u001b[0m\u001b[0;34m)\u001b[0m\u001b[0;34m\u001b[0m\u001b[0;34m\u001b[0m\u001b[0m\n\u001b[0m\u001b[1;32m      3\u001b[0m \u001b[0mmodel\u001b[0m\u001b[0;34m.\u001b[0m\u001b[0madd\u001b[0m\u001b[0;34m(\u001b[0m\u001b[0mDense\u001b[0m\u001b[0;34m(\u001b[0m\u001b[0munits\u001b[0m \u001b[0;34m=\u001b[0m \u001b[0my_train\u001b[0m\u001b[0;34m.\u001b[0m\u001b[0mshape\u001b[0m\u001b[0;34m[\u001b[0m\u001b[0;36m1\u001b[0m\u001b[0;34m]\u001b[0m\u001b[0;34m,\u001b[0m \u001b[0mactivation\u001b[0m \u001b[0;34m=\u001b[0m \u001b[0;34m\"softmax\"\u001b[0m\u001b[0;34m)\u001b[0m\u001b[0;34m)\u001b[0m\u001b[0;34m\u001b[0m\u001b[0;34m\u001b[0m\u001b[0m\n",
            "\u001b[0;31mNameError\u001b[0m: name 'X_train' is not defined"
          ]
        }
      ],
      "source": [
        "model = Sequential()\n",
        "model.add(Dense(units = 1000, activation = \"relu\", input_dim = X_train.shape[1]))\n",
        "model.add(Dense(units = y_train.shape[1], activation = \"softmax\"))"
      ]
    },
    {
      "cell_type": "code",
      "execution_count": null,
      "metadata": {
        "colab": {
          "background_save": true
        },
        "id": "RtiOv0G0Bi1e"
      },
      "outputs": [],
      "source": [
        "model.compile(optimizer = 'sgd', loss = 'categorical_crossentropy', metrics = ['accuracy'])\n"
      ]
    },
    {
      "cell_type": "code",
      "execution_count": null,
      "metadata": {
        "colab": {
          "background_save": true
        },
        "id": "mfo0Ih9TCcsg"
      },
      "outputs": [],
      "source": [
        "from sklearn.model_selection import train_test_split\n",
        "X_train,X_test,y_train,y_test = train_test_split(image_array,labels,test_size=0.3,random_state=1)"
      ]
    },
    {
      "cell_type": "code",
      "execution_count": null,
      "metadata": {
        "colab": {
          "background_save": true
        },
        "id": "AHAaLrW5CrR3"
      },
      "outputs": [],
      "source": [
        "model.fit( X_train,  y_train, batch_size = 100, epochs=100, verbose=1)"
      ]
    }
  ],
  "metadata": {
    "accelerator": "GPU",
    "colab": {
      "provenance": [],
      "authorship_tag": "ABX9TyN1el5wS2y3s1CK361dvEBf"
    },
    "gpuClass": "standard",
    "kernelspec": {
      "display_name": "Python 3",
      "name": "python3"
    },
    "language_info": {
      "name": "python"
    }
  },
  "nbformat": 4,
  "nbformat_minor": 0
}