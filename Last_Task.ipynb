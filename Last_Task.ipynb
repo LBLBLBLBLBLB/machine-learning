{
  "nbformat": 4,
  "nbformat_minor": 0,
  "metadata": {
    "colab": {
      "provenance": [],
      "gpuType": "T4",
      "authorship_tag": "ABX9TyOhrv09krJPqW+F2J33T059"
    },
    "kernelspec": {
      "name": "python3",
      "display_name": "Python 3"
    },
    "language_info": {
      "name": "python"
    },
    "accelerator": "GPU"
  },
  "cells": [
    {
      "cell_type": "code",
      "execution_count": null,
      "metadata": {
        "id": "j3t-jDVIdN1K"
      },
      "outputs": [],
      "source": [
        "# !pip install yfinance"
      ]
    },
    {
      "cell_type": "code",
      "source": [
        "import pandas as pd\n",
        "import numpy as np\n",
        "import matplotlib.pyplot as plt\n",
        "import yfinance as yf"
      ],
      "metadata": {
        "id": "FOfJzNO4daU8"
      },
      "execution_count": 6,
      "outputs": []
    },
    {
      "cell_type": "code",
      "source": [
        "data = yf.download(tickers = 'HPQ', progress = False, start = '2020-06-16', end = '2023-06-01')\n",
        "data.drop(['High', 'Low', 'Close', 'Adj Close', 'Close', 'Volume'], axis = 1, inplace = True)\n",
        "data.head()"
      ],
      "metadata": {
        "colab": {
          "base_uri": "https://localhost:8080/",
          "height": 238
        },
        "id": "A9b6FYD5dgXV",
        "outputId": "f5af0e8e-49be-4719-e7c9-165959f6aeee"
      },
      "execution_count": null,
      "outputs": [
        {
          "output_type": "execute_result",
          "data": {
            "text/plain": [
              "                 Open\n",
              "Date                 \n",
              "2020-06-16  17.400000\n",
              "2020-06-17  17.340000\n",
              "2020-06-18  16.629999\n",
              "2020-06-19  17.240000\n",
              "2020-06-22  16.670000"
            ],
            "text/html": [
              "\n",
              "  <div id=\"df-f4fdd262-fb9b-4d89-9014-dfd33a8401cf\">\n",
              "    <div class=\"colab-df-container\">\n",
              "      <div>\n",
              "<style scoped>\n",
              "    .dataframe tbody tr th:only-of-type {\n",
              "        vertical-align: middle;\n",
              "    }\n",
              "\n",
              "    .dataframe tbody tr th {\n",
              "        vertical-align: top;\n",
              "    }\n",
              "\n",
              "    .dataframe thead th {\n",
              "        text-align: right;\n",
              "    }\n",
              "</style>\n",
              "<table border=\"1\" class=\"dataframe\">\n",
              "  <thead>\n",
              "    <tr style=\"text-align: right;\">\n",
              "      <th></th>\n",
              "      <th>Open</th>\n",
              "    </tr>\n",
              "    <tr>\n",
              "      <th>Date</th>\n",
              "      <th></th>\n",
              "    </tr>\n",
              "  </thead>\n",
              "  <tbody>\n",
              "    <tr>\n",
              "      <th>2020-06-16</th>\n",
              "      <td>17.400000</td>\n",
              "    </tr>\n",
              "    <tr>\n",
              "      <th>2020-06-17</th>\n",
              "      <td>17.340000</td>\n",
              "    </tr>\n",
              "    <tr>\n",
              "      <th>2020-06-18</th>\n",
              "      <td>16.629999</td>\n",
              "    </tr>\n",
              "    <tr>\n",
              "      <th>2020-06-19</th>\n",
              "      <td>17.240000</td>\n",
              "    </tr>\n",
              "    <tr>\n",
              "      <th>2020-06-22</th>\n",
              "      <td>16.670000</td>\n",
              "    </tr>\n",
              "  </tbody>\n",
              "</table>\n",
              "</div>\n",
              "      <button class=\"colab-df-convert\" onclick=\"convertToInteractive('df-f4fdd262-fb9b-4d89-9014-dfd33a8401cf')\"\n",
              "              title=\"Convert this dataframe to an interactive table.\"\n",
              "              style=\"display:none;\">\n",
              "        \n",
              "  <svg xmlns=\"http://www.w3.org/2000/svg\" height=\"24px\"viewBox=\"0 0 24 24\"\n",
              "       width=\"24px\">\n",
              "    <path d=\"M0 0h24v24H0V0z\" fill=\"none\"/>\n",
              "    <path d=\"M18.56 5.44l.94 2.06.94-2.06 2.06-.94-2.06-.94-.94-2.06-.94 2.06-2.06.94zm-11 1L8.5 8.5l.94-2.06 2.06-.94-2.06-.94L8.5 2.5l-.94 2.06-2.06.94zm10 10l.94 2.06.94-2.06 2.06-.94-2.06-.94-.94-2.06-.94 2.06-2.06.94z\"/><path d=\"M17.41 7.96l-1.37-1.37c-.4-.4-.92-.59-1.43-.59-.52 0-1.04.2-1.43.59L10.3 9.45l-7.72 7.72c-.78.78-.78 2.05 0 2.83L4 21.41c.39.39.9.59 1.41.59.51 0 1.02-.2 1.41-.59l7.78-7.78 2.81-2.81c.8-.78.8-2.07 0-2.86zM5.41 20L4 18.59l7.72-7.72 1.47 1.35L5.41 20z\"/>\n",
              "  </svg>\n",
              "      </button>\n",
              "      \n",
              "  <style>\n",
              "    .colab-df-container {\n",
              "      display:flex;\n",
              "      flex-wrap:wrap;\n",
              "      gap: 12px;\n",
              "    }\n",
              "\n",
              "    .colab-df-convert {\n",
              "      background-color: #E8F0FE;\n",
              "      border: none;\n",
              "      border-radius: 50%;\n",
              "      cursor: pointer;\n",
              "      display: none;\n",
              "      fill: #1967D2;\n",
              "      height: 32px;\n",
              "      padding: 0 0 0 0;\n",
              "      width: 32px;\n",
              "    }\n",
              "\n",
              "    .colab-df-convert:hover {\n",
              "      background-color: #E2EBFA;\n",
              "      box-shadow: 0px 1px 2px rgba(60, 64, 67, 0.3), 0px 1px 3px 1px rgba(60, 64, 67, 0.15);\n",
              "      fill: #174EA6;\n",
              "    }\n",
              "\n",
              "    [theme=dark] .colab-df-convert {\n",
              "      background-color: #3B4455;\n",
              "      fill: #D2E3FC;\n",
              "    }\n",
              "\n",
              "    [theme=dark] .colab-df-convert:hover {\n",
              "      background-color: #434B5C;\n",
              "      box-shadow: 0px 1px 3px 1px rgba(0, 0, 0, 0.15);\n",
              "      filter: drop-shadow(0px 1px 2px rgba(0, 0, 0, 0.3));\n",
              "      fill: #FFFFFF;\n",
              "    }\n",
              "  </style>\n",
              "\n",
              "      <script>\n",
              "        const buttonEl =\n",
              "          document.querySelector('#df-f4fdd262-fb9b-4d89-9014-dfd33a8401cf button.colab-df-convert');\n",
              "        buttonEl.style.display =\n",
              "          google.colab.kernel.accessAllowed ? 'block' : 'none';\n",
              "\n",
              "        async function convertToInteractive(key) {\n",
              "          const element = document.querySelector('#df-f4fdd262-fb9b-4d89-9014-dfd33a8401cf');\n",
              "          const dataTable =\n",
              "            await google.colab.kernel.invokeFunction('convertToInteractive',\n",
              "                                                     [key], {});\n",
              "          if (!dataTable) return;\n",
              "\n",
              "          const docLinkHtml = 'Like what you see? Visit the ' +\n",
              "            '<a target=\"_blank\" href=https://colab.research.google.com/notebooks/data_table.ipynb>data table notebook</a>'\n",
              "            + ' to learn more about interactive tables.';\n",
              "          element.innerHTML = '';\n",
              "          dataTable['output_type'] = 'display_data';\n",
              "          await google.colab.output.renderOutput(dataTable, element);\n",
              "          const docLink = document.createElement('div');\n",
              "          docLink.innerHTML = docLinkHtml;\n",
              "          element.appendChild(docLink);\n",
              "        }\n",
              "      </script>\n",
              "    </div>\n",
              "  </div>\n",
              "  "
            ]
          },
          "metadata": {},
          "execution_count": 26
        }
      ]
    },
    {
      "cell_type": "code",
      "source": [
        "data.plot()"
      ],
      "metadata": {
        "colab": {
          "base_uri": "https://localhost:8080/",
          "height": 450
        },
        "id": "QlHiWKvSd5Bo",
        "outputId": "0fedfbf2-1fde-423d-d256-56d383a44d90"
      },
      "execution_count": null,
      "outputs": [
        {
          "output_type": "execute_result",
          "data": {
            "text/plain": [
              "<Axes: xlabel='Date'>"
            ]
          },
          "metadata": {},
          "execution_count": 27
        },
        {
          "output_type": "display_data",
          "data": {
            "text/plain": [
              "<Figure size 640x480 with 1 Axes>"
            ],
            "image/png": "[encoded data removed]"
          },
          "metadata": {}
        }
      ]
    },
    {
      "cell_type": "code",
      "source": [
        "timeseries = data.values\n",
        "from sklearn.preprocessing import MinMaxScaler\n",
        "myscaler = MinMaxScaler()\n",
        "timeseries = myscaler.fit_transform(timeseries)"
      ],
      "metadata": {
        "id": "s5kCOtjeeDxX"
      },
      "execution_count": null,
      "outputs": []
    },
    {
      "cell_type": "code",
      "source": [
        "train_size =int(len(timeseries)*0.7)\n",
        "test_size =len(timeseries) -train_size\n",
        "train,test =timeseries[0:train_size,:],timeseries[train_size:len(timeseries),:]"
      ],
      "metadata": {
        "id": "bkYBvgv0eHpf"
      },
      "execution_count": null,
      "outputs": []
    },
    {
      "cell_type": "code",
      "source": [
        "def create_timeseries(timeseries,step):\n",
        "    dataX,dataY =[],[]\n",
        "    for i in range(len(timeseries)-step-1):\n",
        "        a =timeseries[i:(i+step),0]\n",
        "        dataX.append(a)\n",
        "        dataY.append(timeseries[i+step,0])\n",
        "    return np.array(dataX),np.array(dataY)\n",
        "step_size=4\n",
        "X_train, y_train =create_timeseries(train,step_size)\n",
        "X_test,y_test =create_timeseries(test,step_size)"
      ],
      "metadata": {
        "id": "FWyBhyqWeR3G"
      },
      "execution_count": null,
      "outputs": []
    },
    {
      "cell_type": "code",
      "source": [
        "X_train =np.reshape(X_train,(X_train.shape[0],X_train.shape[1],1))\n",
        "X_test =np.reshape(X_test,(X_test.shape[0],X_test.shape[1],1))"
      ],
      "metadata": {
        "id": "sILYNhvueVG9"
      },
      "execution_count": null,
      "outputs": []
    },
    {
      "cell_type": "code",
      "source": [
        "from keras.models import  Sequential\n",
        "from keras.layers import Dense, LSTM,Bidirectional"
      ],
      "metadata": {
        "id": "Vacr1j6VehKA"
      },
      "execution_count": null,
      "outputs": []
    },
    {
      "cell_type": "code",
      "source": [
        "model =Sequential()\n",
        "model.add(LSTM(units=4,input_shape=(step_size,1),activation='relu',return_sequences=True))\n",
        "model.add(LSTM(units=4,activation='relu',return_sequences=True))\n",
        "model.add(LSTM(units=4,activation='relu',return_sequences=True))\n",
        "model.add(LSTM(units=4,activation='relu'))\n",
        "model.add(Dense(units=8,activation='relu'))\n",
        "model.add(Dense(units=1,activation='linear'))\n",
        "model.compile(loss='mean_squared_error',optimizer='rmsprop')\n",
        "model.summary()"
      ],
      "metadata": {
        "colab": {
          "base_uri": "https://localhost:8080/"
        },
        "id": "NKh9dXMgelEn",
        "outputId": "610e04fa-91d9-423c-a2dc-912f5a3647d7"
      },
      "execution_count": null,
      "outputs": [
        {
          "output_type": "stream",
          "name": "stdout",
          "text": [
            "Model: \"sequential_9\"\n",
            "_________________________________________________________________\n",
            " Layer (type)                Output Shape              Param #   \n",
            "=================================================================\n",
            " lstm_36 (LSTM)              (None, 4, 4)              96        \n",
            "                                                                 \n",
            " lstm_37 (LSTM)              (None, 4, 4)              144       \n",
            "                                                                 \n",
            " lstm_38 (LSTM)              (None, 4, 4)              144       \n",
            "                                                                 \n",
            " lstm_39 (LSTM)              (None, 4)                 144       \n",
            "                                                                 \n",
            " dense (Dense)               (None, 8)                 40        \n",
            "                                                                 \n",
            " dense_1 (Dense)             (None, 1)                 9         \n",
            "                                                                 \n",
            "=================================================================\n",
            "Total params: 577\n",
            "Trainable params: 577\n",
            "Non-trainable params: 0\n",
            "_________________________________________________________________\n"
          ]
        }
      ]
    },
    {
      "cell_type": "code",
      "source": [
        "model.fit(X_train,y_train,validation_data=(X_test,y_test),batch_size=1,verbose=1,epochs=100)"
      ],
      "metadata": {
        "id": "x4Gk8bQvhSSx"
      },
      "execution_count": null,
      "outputs": []
    },
    {
      "cell_type": "code",
      "source": [
        "!pip install transformers"
      ],
      "metadata": {
        "id": "wO82Ur13iaSv"
      },
      "execution_count": null,
      "outputs": []
    },
    {
      "cell_type": "code",
      "source": [
        "from transformers import pipeline"
      ],
      "metadata": {
        "id": "Y8fhA_OfipcQ"
      },
      "execution_count": 2,
      "outputs": []
    },
    {
      "cell_type": "code",
      "source": [
        "data = pd.read_csv(\"https://raw.githubusercontent.com/sharmaroshan/Twitter-Sentiment-Analysis/master/train_tweet.csv\")\n",
        "data =data.sample(n=50)\n",
        "\n",
        "data.head()"
      ],
      "metadata": {
        "colab": {
          "base_uri": "https://localhost:8080/",
          "height": 206
        },
        "id": "bhsUt-6ejVYe",
        "outputId": "62e9f2b8-3df2-47c8-f85b-1f283cd81885"
      },
      "execution_count": 9,
      "outputs": [
        {
          "output_type": "execute_result",
          "data": {
            "text/plain": [
              "          id  label                                              tweet\n",
              "20399  20400      0  i think am not supposed to get married   fact ...\n",
              "29414  29415      0  #liveme #lgbt #transguy   #youtuber  brennank....\n",
              "22217  22218      1  @user #allahsoil the more familiar we become, ...\n",
              "4596    4597      0  leaving for my last #kadesh tomorrow!   #kades...\n",
              "8881    8882      0    bihday my dear fellow fish....ðððð..."
            ],
            "text/html": [
              "\n",
              "  <div id=\"df-39e5a50a-b582-479c-8840-42eda1b6095e\">\n",
              "    <div class=\"colab-df-container\">\n",
              "      <div>\n",
              "<style scoped>\n",
              "    .dataframe tbody tr th:only-of-type {\n",
              "        vertical-align: middle;\n",
              "    }\n",
              "\n",
              "    .dataframe tbody tr th {\n",
              "        vertical-align: top;\n",
              "    }\n",
              "\n",
              "    .dataframe thead th {\n",
              "        text-align: right;\n",
              "    }\n",
              "</style>\n",
              "<table border=\"1\" class=\"dataframe\">\n",
              "  <thead>\n",
              "    <tr style=\"text-align: right;\">\n",
              "      <th></th>\n",
              "      <th>id</th>\n",
              "      <th>label</th>\n",
              "      <th>tweet</th>\n",
              "    </tr>\n",
              "  </thead>\n",
              "  <tbody>\n",
              "    <tr>\n",
              "      <th>20399</th>\n",
              "      <td>20400</td>\n",
              "      <td>0</td>\n",
              "      <td>i think am not supposed to get married   fact ...</td>\n",
              "    </tr>\n",
              "    <tr>\n",
              "      <th>29414</th>\n",
              "      <td>29415</td>\n",
              "      <td>0</td>\n",
              "      <td>#liveme #lgbt #transguy   #youtuber  brennank....</td>\n",
              "    </tr>\n",
              "    <tr>\n",
              "      <th>22217</th>\n",
              "      <td>22218</td>\n",
              "      <td>1</td>\n",
              "      <td>@user #allahsoil the more familiar we become, ...</td>\n",
              "    </tr>\n",
              "    <tr>\n",
              "      <th>4596</th>\n",
              "      <td>4597</td>\n",
              "      <td>0</td>\n",
              "      <td>leaving for my last #kadesh tomorrow!   #kades...</td>\n",
              "    </tr>\n",
              "    <tr>\n",
              "      <th>8881</th>\n",
              "      <td>8882</td>\n",
              "      <td>0</td>\n",
              "      <td>bihday my dear fellow fish....ðððð...</td>\n",
              "    </tr>\n",
              "  </tbody>\n",
              "</table>\n",
              "</div>\n",
              "      <button class=\"colab-df-convert\" onclick=\"convertToInteractive('df-39e5a50a-b582-479c-8840-42eda1b6095e')\"\n",
              "              title=\"Convert this dataframe to an interactive table.\"\n",
              "              style=\"display:none;\">\n",
              "        \n",
              "  <svg xmlns=\"http://www.w3.org/2000/svg\" height=\"24px\"viewBox=\"0 0 24 24\"\n",
              "       width=\"24px\">\n",
              "    <path d=\"M0 0h24v24H0V0z\" fill=\"none\"/>\n",
              "    <path d=\"M18.56 5.44l.94 2.06.94-2.06 2.06-.94-2.06-.94-.94-2.06-.94 2.06-2.06.94zm-11 1L8.5 8.5l.94-2.06 2.06-.94-2.06-.94L8.5 2.5l-.94 2.06-2.06.94zm10 10l.94 2.06.94-2.06 2.06-.94-2.06-.94-.94-2.06-.94 2.06-2.06.94z\"/><path d=\"M17.41 7.96l-1.37-1.37c-.4-.4-.92-.59-1.43-.59-.52 0-1.04.2-1.43.59L10.3 9.45l-7.72 7.72c-.78.78-.78 2.05 0 2.83L4 21.41c.39.39.9.59 1.41.59.51 0 1.02-.2 1.41-.59l7.78-7.78 2.81-2.81c.8-.78.8-2.07 0-2.86zM5.41 20L4 18.59l7.72-7.72 1.47 1.35L5.41 20z\"/>\n",
              "  </svg>\n",
              "      </button>\n",
              "      \n",
              "  <style>\n",
              "    .colab-df-container {\n",
              "      display:flex;\n",
              "      flex-wrap:wrap;\n",
              "      gap: 12px;\n",
              "    }\n",
              "\n",
              "    .colab-df-convert {\n",
              "      background-color: #E8F0FE;\n",
              "      border: none;\n",
              "      border-radius: 50%;\n",
              "      cursor: pointer;\n",
              "      display: none;\n",
              "      fill: #1967D2;\n",
              "      height: 32px;\n",
              "      padding: 0 0 0 0;\n",
              "      width: 32px;\n",
              "    }\n",
              "\n",
              "    .colab-df-convert:hover {\n",
              "      background-color: #E2EBFA;\n",
              "      box-shadow: 0px 1px 2px rgba(60, 64, 67, 0.3), 0px 1px 3px 1px rgba(60, 64, 67, 0.15);\n",
              "      fill: #174EA6;\n",
              "    }\n",
              "\n",
              "    [theme=dark] .colab-df-convert {\n",
              "      background-color: #3B4455;\n",
              "      fill: #D2E3FC;\n",
              "    }\n",
              "\n",
              "    [theme=dark] .colab-df-convert:hover {\n",
              "      background-color: #434B5C;\n",
              "      box-shadow: 0px 1px 3px 1px rgba(0, 0, 0, 0.15);\n",
              "      filter: drop-shadow(0px 1px 2px rgba(0, 0, 0, 0.3));\n",
              "      fill: #FFFFFF;\n",
              "    }\n",
              "  </style>\n",
              "\n",
              "      <script>\n",
              "        const buttonEl =\n",
              "          document.querySelector('#df-39e5a50a-b582-479c-8840-42eda1b6095e button.colab-df-convert');\n",
              "        buttonEl.style.display =\n",
              "          google.colab.kernel.accessAllowed ? 'block' : 'none';\n",
              "\n",
              "        async function convertToInteractive(key) {\n",
              "          const element = document.querySelector('#df-39e5a50a-b582-479c-8840-42eda1b6095e');\n",
              "          const dataTable =\n",
              "            await google.colab.kernel.invokeFunction('convertToInteractive',\n",
              "                                                     [key], {});\n",
              "          if (!dataTable) return;\n",
              "\n",
              "          const docLinkHtml = 'Like what you see? Visit the ' +\n",
              "            '<a target=\"_blank\" href=https://colab.research.google.com/notebooks/data_table.ipynb>data table notebook</a>'\n",
              "            + ' to learn more about interactive tables.';\n",
              "          element.innerHTML = '';\n",
              "          dataTable['output_type'] = 'display_data';\n",
              "          await google.colab.output.renderOutput(dataTable, element);\n",
              "          const docLink = document.createElement('div');\n",
              "          docLink.innerHTML = docLinkHtml;\n",
              "          element.appendChild(docLink);\n",
              "        }\n",
              "      </script>\n",
              "    </div>\n",
              "  </div>\n",
              "  "
            ]
          },
          "metadata": {},
          "execution_count": 9
        }
      ]
    },
    {
      "cell_type": "code",
      "source": [
        "classification = pipeline('sentiment-analysis')\n",
        "for  i, row in data.iterrows():\n",
        "    text = row[\"tweet\"]\n",
        "    result = classification(text)\n",
        "    label = result[0][\"label\"]\n",
        "    score = result[0][\"score\"]\n",
        "    print(\"label: \", label ,\" score: \", score)\n"
      ],
      "metadata": {
        "id": "d9IJaMEXlFPX",
        "colab": {
          "base_uri": "https://localhost:8080/"
        },
        "outputId": "a8ee3d30-5068-4019-ac7a-d81339a9b0fe"
      },
      "execution_count": 10,
      "outputs": [
        {
          "output_type": "stream",
          "name": "stderr",
          "text": [
            "No model was supplied, defaulted to distilbert-base-uncased-finetuned-sst-2-english and revision af0f99b (https://huggingface.co/distilbert-base-uncased-finetuned-sst-2-english).\n",
            "Using a pipeline without specifying a model name and revision in production is not recommended.\n"
          ]
        },
        {
          "output_type": "stream",
          "name": "stdout",
          "text": [
            "label:  NEGATIVE  score:  0.988353967666626\n",
            "label:  NEGATIVE  score:  0.9432246685028076\n",
            "label:  NEGATIVE  score:  0.9984604120254517\n",
            "label:  NEGATIVE  score:  0.5679721832275391\n",
            "label:  POSITIVE  score:  0.6498417258262634\n",
            "label:  POSITIVE  score:  0.992360532283783\n",
            "label:  POSITIVE  score:  0.8391700983047485\n",
            "label:  NEGATIVE  score:  0.9977996945381165\n",
            "label:  POSITIVE  score:  0.5966577529907227\n",
            "label:  NEGATIVE  score:  0.9816546440124512\n",
            "label:  POSITIVE  score:  0.999657154083252\n",
            "label:  NEGATIVE  score:  0.9989884495735168\n",
            "label:  NEGATIVE  score:  0.996356725692749\n",
            "label:  NEGATIVE  score:  0.994452178478241\n",
            "label:  NEGATIVE  score:  0.7380715012550354\n",
            "label:  POSITIVE  score:  0.9976181387901306\n",
            "label:  NEGATIVE  score:  0.9889910221099854\n",
            "label:  POSITIVE  score:  0.7840771675109863\n",
            "label:  POSITIVE  score:  0.996340274810791\n",
            "label:  POSITIVE  score:  0.9883905649185181\n",
            "label:  NEGATIVE  score:  0.9991557598114014\n",
            "label:  NEGATIVE  score:  0.9803787469863892\n",
            "label:  NEGATIVE  score:  0.8141037225723267\n",
            "label:  NEGATIVE  score:  0.9995299577713013\n",
            "label:  POSITIVE  score:  0.9871875047683716\n",
            "label:  POSITIVE  score:  0.9998763799667358\n",
            "label:  POSITIVE  score:  0.9988213181495667\n",
            "label:  POSITIVE  score:  0.9982985854148865\n",
            "label:  NEGATIVE  score:  0.9938585162162781\n",
            "label:  POSITIVE  score:  0.9917213320732117\n",
            "label:  NEGATIVE  score:  0.9937226176261902\n",
            "label:  POSITIVE  score:  0.9843816161155701\n",
            "label:  NEGATIVE  score:  0.9874026775360107\n",
            "label:  NEGATIVE  score:  0.9952805638313293\n",
            "label:  NEGATIVE  score:  0.9942299127578735\n",
            "label:  NEGATIVE  score:  0.9971265196800232\n",
            "label:  NEGATIVE  score:  0.9993689656257629\n",
            "label:  NEGATIVE  score:  0.9976204037666321\n",
            "label:  POSITIVE  score:  0.9998834133148193\n",
            "label:  NEGATIVE  score:  0.9989389777183533\n",
            "label:  NEGATIVE  score:  0.9103792905807495\n",
            "label:  POSITIVE  score:  0.9973837733268738\n",
            "label:  NEGATIVE  score:  0.9994219541549683\n",
            "label:  POSITIVE  score:  0.99905925989151\n",
            "label:  NEGATIVE  score:  0.9580205678939819\n",
            "label:  NEGATIVE  score:  0.8890680074691772\n",
            "label:  POSITIVE  score:  0.9960947632789612\n",
            "label:  POSITIVE  score:  0.6317236423492432\n",
            "label:  NEGATIVE  score:  0.9969979524612427\n",
            "label:  POSITIVE  score:  0.9708600044250488\n"
          ]
        }
      ]
    }
  ]
}