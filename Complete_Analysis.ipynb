{
  "nbformat": 4,
  "nbformat_minor": 0,
  "metadata": {
    "colab": {
      "provenance": [],
      "gpuType": "T4",
      "authorship_tag": "ABX9TyMk4m4GMcsZPaZ/ztMTwQrS",
      "include_colab_link": true
    },
    "kernelspec": {
      "name": "python3",
      "display_name": "Python 3"
    },
    "language_info": {
      "name": "python"
    },
    "accelerator": "GPU"
  },
  "cells": [
    {
      "cell_type": "markdown",
      "metadata": {
        "id": "view-in-github",
        "colab_type": "text"
      },
      "source": [
        "<a href=\"https://colab.research.google.com/github/LBLBLBLBLBLB/machine-learning/blob/master/Complete_Analysis.ipynb\" target=\"_parent\"><img src=\"https://colab.research.google.com/assets/colab-badge.svg\" alt=\"Open In Colab\"/></a>"
      ]
    },
    {
      "cell_type": "code",
      "execution_count": 30,
      "metadata": {
        "id": "6AmQnKxhHA_s"
      },
      "outputs": [],
      "source": [
        "# !pip install yfinance"
      ]
    },
    {
      "cell_type": "code",
      "source": [
        "import pandas as pd\n",
        "import numpy as np\n",
        "import matplotlib.pyplot as plt\n",
        "import yfinance as yf"
      ],
      "metadata": {
        "id": "hrFM3qb5cgL6"
      },
      "execution_count": 31,
      "outputs": []
    },
    {
      "cell_type": "code",
      "source": [
        "data = yf.download(tickers = 'BTC-USD', progress = False, start = '2021-01-01', end = '2023-01-01')\n",
        "data.drop(['High', 'Low', 'Close', 'Adj Close', 'Close', 'Volume'], axis = 1, inplace = True)\n",
        "data.head()"
      ],
      "metadata": {
        "colab": {
          "base_uri": "https://localhost:8080/",
          "height": 238
        },
        "id": "Gvw8MGi5cru-",
        "outputId": "44a5e9eb-be96-485d-94a6-bcaf499add79"
      },
      "execution_count": 32,
      "outputs": [
        {
          "output_type": "execute_result",
          "data": {
            "text/plain": [
              "                    Open\n",
              "Date                    \n",
              "2021-01-01  28994.009766\n",
              "2021-01-02  29376.455078\n",
              "2021-01-03  32129.408203\n",
              "2021-01-04  32810.949219\n",
              "2021-01-05  31977.041016"
            ],
            "text/html": [
              "\n",
              "  <div id=\"df-9dacf353-31f1-43aa-98c6-54d52ebf2c72\">\n",
              "    <div class=\"colab-df-container\">\n",
              "      <div>\n",
              "<style scoped>\n",
              "    .dataframe tbody tr th:only-of-type {\n",
              "        vertical-align: middle;\n",
              "    }\n",
              "\n",
              "    .dataframe tbody tr th {\n",
              "        vertical-align: top;\n",
              "    }\n",
              "\n",
              "    .dataframe thead th {\n",
              "        text-align: right;\n",
              "    }\n",
              "</style>\n",
              "<table border=\"1\" class=\"dataframe\">\n",
              "  <thead>\n",
              "    <tr style=\"text-align: right;\">\n",
              "      <th></th>\n",
              "      <th>Open</th>\n",
              "    </tr>\n",
              "    <tr>\n",
              "      <th>Date</th>\n",
              "      <th></th>\n",
              "    </tr>\n",
              "  </thead>\n",
              "  <tbody>\n",
              "    <tr>\n",
              "      <th>2021-01-01</th>\n",
              "      <td>28994.009766</td>\n",
              "    </tr>\n",
              "    <tr>\n",
              "      <th>2021-01-02</th>\n",
              "      <td>29376.455078</td>\n",
              "    </tr>\n",
              "    <tr>\n",
              "      <th>2021-01-03</th>\n",
              "      <td>32129.408203</td>\n",
              "    </tr>\n",
              "    <tr>\n",
              "      <th>2021-01-04</th>\n",
              "      <td>32810.949219</td>\n",
              "    </tr>\n",
              "    <tr>\n",
              "      <th>2021-01-05</th>\n",
              "      <td>31977.041016</td>\n",
              "    </tr>\n",
              "  </tbody>\n",
              "</table>\n",
              "</div>\n",
              "      <button class=\"colab-df-convert\" onclick=\"convertToInteractive('df-9dacf353-31f1-43aa-98c6-54d52ebf2c72')\"\n",
              "              title=\"Convert this dataframe to an interactive table.\"\n",
              "              style=\"display:none;\">\n",
              "        \n",
              "  <svg xmlns=\"http://www.w3.org/2000/svg\" height=\"24px\"viewBox=\"0 0 24 24\"\n",
              "       width=\"24px\">\n",
              "    <path d=\"M0 0h24v24H0V0z\" fill=\"none\"/>\n",
              "    <path d=\"M18.56 5.44l.94 2.06.94-2.06 2.06-.94-2.06-.94-.94-2.06-.94 2.06-2.06.94zm-11 1L8.5 8.5l.94-2.06 2.06-.94-2.06-.94L8.5 2.5l-.94 2.06-2.06.94zm10 10l.94 2.06.94-2.06 2.06-.94-2.06-.94-.94-2.06-.94 2.06-2.06.94z\"/><path d=\"M17.41 7.96l-1.37-1.37c-.4-.4-.92-.59-1.43-.59-.52 0-1.04.2-1.43.59L10.3 9.45l-7.72 7.72c-.78.78-.78 2.05 0 2.83L4 21.41c.39.39.9.59 1.41.59.51 0 1.02-.2 1.41-.59l7.78-7.78 2.81-2.81c.8-.78.8-2.07 0-2.86zM5.41 20L4 18.59l7.72-7.72 1.47 1.35L5.41 20z\"/>\n",
              "  </svg>\n",
              "      </button>\n",
              "      \n",
              "  <style>\n",
              "    .colab-df-container {\n",
              "      display:flex;\n",
              "      flex-wrap:wrap;\n",
              "      gap: 12px;\n",
              "    }\n",
              "\n",
              "    .colab-df-convert {\n",
              "      background-color: #E8F0FE;\n",
              "      border: none;\n",
              "      border-radius: 50%;\n",
              "      cursor: pointer;\n",
              "      display: none;\n",
              "      fill: #1967D2;\n",
              "      height: 32px;\n",
              "      padding: 0 0 0 0;\n",
              "      width: 32px;\n",
              "    }\n",
              "\n",
              "    .colab-df-convert:hover {\n",
              "      background-color: #E2EBFA;\n",
              "      box-shadow: 0px 1px 2px rgba(60, 64, 67, 0.3), 0px 1px 3px 1px rgba(60, 64, 67, 0.15);\n",
              "      fill: #174EA6;\n",
              "    }\n",
              "\n",
              "    [theme=dark] .colab-df-convert {\n",
              "      background-color: #3B4455;\n",
              "      fill: #D2E3FC;\n",
              "    }\n",
              "\n",
              "    [theme=dark] .colab-df-convert:hover {\n",
              "      background-color: #434B5C;\n",
              "      box-shadow: 0px 1px 3px 1px rgba(0, 0, 0, 0.15);\n",
              "      filter: drop-shadow(0px 1px 2px rgba(0, 0, 0, 0.3));\n",
              "      fill: #FFFFFF;\n",
              "    }\n",
              "  </style>\n",
              "\n",
              "      <script>\n",
              "        const buttonEl =\n",
              "          document.querySelector('#df-9dacf353-31f1-43aa-98c6-54d52ebf2c72 button.colab-df-convert');\n",
              "        buttonEl.style.display =\n",
              "          google.colab.kernel.accessAllowed ? 'block' : 'none';\n",
              "\n",
              "        async function convertToInteractive(key) {\n",
              "          const element = document.querySelector('#df-9dacf353-31f1-43aa-98c6-54d52ebf2c72');\n",
              "          const dataTable =\n",
              "            await google.colab.kernel.invokeFunction('convertToInteractive',\n",
              "                                                     [key], {});\n",
              "          if (!dataTable) return;\n",
              "\n",
              "          const docLinkHtml = 'Like what you see? Visit the ' +\n",
              "            '<a target=\"_blank\" href=https://colab.research.google.com/notebooks/data_table.ipynb>data table notebook</a>'\n",
              "            + ' to learn more about interactive tables.';\n",
              "          element.innerHTML = '';\n",
              "          dataTable['output_type'] = 'display_data';\n",
              "          await google.colab.output.renderOutput(dataTable, element);\n",
              "          const docLink = document.createElement('div');\n",
              "          docLink.innerHTML = docLinkHtml;\n",
              "          element.appendChild(docLink);\n",
              "        }\n",
              "      </script>\n",
              "    </div>\n",
              "  </div>\n",
              "  "
            ]
          },
          "metadata": {},
          "execution_count": 32
        }
      ]
    },
    {
      "cell_type": "code",
      "source": [
        "data.plot()"
      ],
      "metadata": {
        "colab": {
          "base_uri": "https://localhost:8080/",
          "height": 487
        },
        "id": "it6XNIIzeGoz",
        "outputId": "25b01f80-cb8c-4d57-a471-797c1d61e0c4"
      },
      "execution_count": 33,
      "outputs": [
        {
          "output_type": "execute_result",
          "data": {
            "text/plain": [
              "<Axes: xlabel='Date'>"
            ]
          },
          "metadata": {},
          "execution_count": 33
        },
        {
          "output_type": "display_data",
          "data": {
            "text/plain": [
              "<Figure size 640x480 with 1 Axes>"
            ],
            "image/png": "[encoded data removed]"
          },
          "metadata": {}
        }
      ]
    },
    {
      "cell_type": "code",
      "source": [
        "timeseries = data.values\n",
        "from sklearn.preprocessing import MinMaxScaler\n",
        "myscaler = MinMaxScaler()\n",
        "timeseries = myscaler.fit_transform(timeseries)\n",
        "# print(timeseries)"
      ],
      "metadata": {
        "id": "D5lrId65fKrz"
      },
      "execution_count": 34,
      "outputs": []
    },
    {
      "cell_type": "code",
      "source": [
        "train_size =int(len(timeseries)*0.67)\n",
        "test_size =len(timeseries) -train_size\n",
        "train,test =timeseries[0:train_size,:],timeseries[train_size:len(timeseries),:]"
      ],
      "metadata": {
        "id": "KJMwlpE0fyUb"
      },
      "execution_count": 35,
      "outputs": []
    },
    {
      "cell_type": "code",
      "source": [
        "def create_timeseries(timeseries,step):\n",
        "    dataX,dataY =[],[]\n",
        "    for i in range(len(timeseries)-step-1):\n",
        "        a =timeseries[i:(i+step),0]\n",
        "        dataX.append(a)\n",
        "        dataY.append(timeseries[i+step,0])\n",
        "    return np.array(dataX),np.array(dataY)\n",
        "step_size=4\n",
        "X_train, y_train =create_timeseries(train,step_size)\n",
        "X_test,y_test =create_timeseries(test,step_size)\n"
      ],
      "metadata": {
        "id": "FfLimWYvgs2B"
      },
      "execution_count": 36,
      "outputs": []
    },
    {
      "cell_type": "code",
      "source": [
        "X_train =np.reshape(X_train,(X_train.shape[0],X_train.shape[1],1))\n",
        "X_test =np.reshape(X_test,(X_test.shape[0],X_test.shape[1],1))\n"
      ],
      "metadata": {
        "id": "8k7zrK5-iJBf"
      },
      "execution_count": 37,
      "outputs": []
    },
    {
      "cell_type": "code",
      "source": [
        "from keras.models import  Sequential\n",
        "from keras.layers import Dense, LSTM,Bidirectional"
      ],
      "metadata": {
        "id": "rwVgPvcQidCf"
      },
      "execution_count": 41,
      "outputs": []
    },
    {
      "cell_type": "code",
      "source": [
        "model =Sequential()\n",
        "model.add(LSTM(units=4,input_shape=(step_size,1),activation='relu',return_sequences=True))\n",
        "model.add(LSTM(units=4,activation='relu',return_sequences=True))\n",
        "model.add(LSTM(units=2,activation='relu'))\n",
        "model.add(Dense(units=8,activation='relu'))\n",
        "model.add(Dense(units=1,activation='linear'))\n",
        "model.compile(loss='mean_squared_error',optimizer='rmsprop')\n",
        "model.summary()"
      ],
      "metadata": {
        "id": "IgF0muGjjXrq"
      },
      "execution_count": null,
      "outputs": []
    },
    {
      "cell_type": "code",
      "source": [
        "model.fit(X_train,y_train,validation_data=(X_test,y_test),batch_size=1,verbose=1,epochs=100)"
      ],
      "metadata": {
        "colab": {
          "base_uri": "https://localhost:8080/"
        },
        "id": "LRGd9Kn8j3Km",
        "outputId": "aea70833-29c1-43bc-9972-ed7c2a687779"
      },
      "execution_count": 43,
      "outputs": [
        {
          "output_type": "stream",
          "name": "stdout",
          "text": [
            "Epoch 1/100\n",
            "484/484 [==============================] - 18s 20ms/step - loss: 0.0726 - val_loss: 0.1853\n",
            "Epoch 2/100\n",
            "484/484 [==============================] - 7s 15ms/step - loss: 0.0203 - val_loss: 0.1336\n",
            "Epoch 3/100\n",
            "484/484 [==============================] - 8s 17ms/step - loss: 0.0074 - val_loss: 0.0437\n",
            "Epoch 4/100\n",
            "484/484 [==============================] - 8s 17ms/step - loss: 0.0035 - val_loss: 0.0288\n",
            "Epoch 5/100\n",
            "484/484 [==============================] - 8s 16ms/step - loss: 0.0032 - val_loss: 0.0273\n",
            "Epoch 6/100\n",
            "484/484 [==============================] - 8s 17ms/step - loss: 0.0032 - val_loss: 0.0295\n",
            "Epoch 7/100\n",
            "484/484 [==============================] - 8s 17ms/step - loss: 0.0033 - val_loss: 0.0274\n",
            "Epoch 8/100\n",
            "484/484 [==============================] - 7s 15ms/step - loss: 0.0032 - val_loss: 0.0231\n",
            "Epoch 9/100\n",
            "484/484 [==============================] - 8s 17ms/step - loss: 0.0032 - val_loss: 0.0229\n",
            "Epoch 10/100\n",
            "484/484 [==============================] - 8s 18ms/step - loss: 0.0032 - val_loss: 0.0232\n",
            "Epoch 11/100\n",
            "484/484 [==============================] - 8s 16ms/step - loss: 0.0032 - val_loss: 0.0253\n",
            "Epoch 12/100\n",
            "484/484 [==============================] - 10s 20ms/step - loss: 0.0032 - val_loss: 0.0276\n",
            "Epoch 13/100\n",
            "484/484 [==============================] - 9s 18ms/step - loss: 0.0032 - val_loss: 0.0222\n",
            "Epoch 14/100\n",
            "484/484 [==============================] - 8s 17ms/step - loss: 0.0033 - val_loss: 0.0258\n",
            "Epoch 15/100\n",
            "484/484 [==============================] - 8s 18ms/step - loss: 0.0032 - val_loss: 0.0295\n",
            "Epoch 16/100\n",
            "484/484 [==============================] - 9s 18ms/step - loss: 0.0031 - val_loss: 0.0264\n",
            "Epoch 17/100\n",
            "484/484 [==============================] - 8s 17ms/step - loss: 0.0032 - val_loss: 0.0244\n",
            "Epoch 18/100\n",
            "484/484 [==============================] - 8s 17ms/step - loss: 0.0031 - val_loss: 0.0220\n",
            "Epoch 19/100\n",
            "484/484 [==============================] - 8s 17ms/step - loss: 0.0032 - val_loss: 0.0250\n",
            "Epoch 20/100\n",
            "484/484 [==============================] - 7s 15ms/step - loss: 0.0031 - val_loss: 0.0200\n",
            "Epoch 21/100\n",
            "484/484 [==============================] - 9s 18ms/step - loss: 0.0030 - val_loss: 0.0215\n",
            "Epoch 22/100\n",
            "484/484 [==============================] - 8s 18ms/step - loss: 0.0031 - val_loss: 0.0213\n",
            "Epoch 23/100\n",
            "484/484 [==============================] - 7s 15ms/step - loss: 0.0032 - val_loss: 0.0279\n",
            "Epoch 24/100\n",
            "484/484 [==============================] - 8s 17ms/step - loss: 0.0031 - val_loss: 0.0215\n",
            "Epoch 25/100\n",
            "484/484 [==============================] - 9s 18ms/step - loss: 0.0030 - val_loss: 0.0219\n",
            "Epoch 26/100\n",
            "484/484 [==============================] - 7s 15ms/step - loss: 0.0031 - val_loss: 0.0229\n",
            "Epoch 27/100\n",
            "484/484 [==============================] - 8s 17ms/step - loss: 0.0030 - val_loss: 0.0211\n",
            "Epoch 28/100\n",
            "484/484 [==============================] - 8s 17ms/step - loss: 0.0030 - val_loss: 0.0223\n",
            "Epoch 29/100\n",
            "484/484 [==============================] - 8s 16ms/step - loss: 0.0029 - val_loss: 0.0210\n",
            "Epoch 30/100\n",
            "484/484 [==============================] - 8s 17ms/step - loss: 0.0030 - val_loss: 0.0229\n",
            "Epoch 31/100\n",
            "484/484 [==============================] - 8s 16ms/step - loss: 0.0029 - val_loss: 0.0219\n",
            "Epoch 32/100\n",
            "484/484 [==============================] - 8s 17ms/step - loss: 0.0030 - val_loss: 0.0182\n",
            "Epoch 33/100\n",
            "484/484 [==============================] - 8s 17ms/step - loss: 0.0029 - val_loss: 0.0228\n",
            "Epoch 34/100\n",
            "484/484 [==============================] - 8s 17ms/step - loss: 0.0029 - val_loss: 0.0225\n",
            "Epoch 35/100\n",
            "484/484 [==============================] - 8s 17ms/step - loss: 0.0028 - val_loss: 0.0185\n",
            "Epoch 36/100\n",
            "484/484 [==============================] - 8s 17ms/step - loss: 0.0027 - val_loss: 0.0192\n",
            "Epoch 37/100\n",
            "484/484 [==============================] - 7s 15ms/step - loss: 0.0028 - val_loss: 0.0204\n",
            "Epoch 38/100\n",
            "484/484 [==============================] - 8s 18ms/step - loss: 0.0027 - val_loss: 0.0187\n",
            "Epoch 39/100\n",
            "484/484 [==============================] - 8s 17ms/step - loss: 0.0027 - val_loss: 0.0170\n",
            "Epoch 40/100\n",
            "484/484 [==============================] - 7s 15ms/step - loss: 0.0026 - val_loss: 0.0164\n",
            "Epoch 41/100\n",
            "484/484 [==============================] - 9s 18ms/step - loss: 0.0025 - val_loss: 0.0201\n",
            "Epoch 42/100\n",
            "484/484 [==============================] - 8s 17ms/step - loss: 0.0026 - val_loss: 0.0175\n",
            "Epoch 43/100\n",
            "484/484 [==============================] - 7s 15ms/step - loss: 0.0024 - val_loss: 0.0183\n",
            "Epoch 44/100\n",
            "484/484 [==============================] - 8s 17ms/step - loss: 0.0025 - val_loss: 0.0140\n",
            "Epoch 45/100\n",
            "484/484 [==============================] - 8s 17ms/step - loss: 0.0024 - val_loss: 0.0120\n",
            "Epoch 46/100\n",
            "484/484 [==============================] - 8s 16ms/step - loss: 0.0022 - val_loss: 0.0146\n",
            "Epoch 47/100\n",
            "484/484 [==============================] - 8s 17ms/step - loss: 0.0023 - val_loss: 0.0164\n",
            "Epoch 48/100\n",
            "484/484 [==============================] - 8s 17ms/step - loss: 0.0022 - val_loss: 0.0117\n",
            "Epoch 49/100\n",
            "484/484 [==============================] - 8s 16ms/step - loss: 0.0022 - val_loss: 0.0138\n",
            "Epoch 50/100\n",
            "484/484 [==============================] - 8s 17ms/step - loss: 0.0022 - val_loss: 0.0111\n",
            "Epoch 51/100\n",
            "484/484 [==============================] - 8s 17ms/step - loss: 0.0022 - val_loss: 0.0134\n",
            "Epoch 52/100\n",
            "484/484 [==============================] - 8s 16ms/step - loss: 0.0020 - val_loss: 0.0130\n",
            "Epoch 53/100\n",
            "484/484 [==============================] - 9s 18ms/step - loss: 0.0021 - val_loss: 0.0124\n",
            "Epoch 54/100\n",
            "484/484 [==============================] - 8s 16ms/step - loss: 0.0021 - val_loss: 0.0157\n",
            "Epoch 55/100\n",
            "484/484 [==============================] - 8s 17ms/step - loss: 0.0021 - val_loss: 0.0117\n",
            "Epoch 56/100\n",
            "484/484 [==============================] - 8s 17ms/step - loss: 0.0021 - val_loss: 0.0115\n",
            "Epoch 57/100\n",
            "484/484 [==============================] - 8s 16ms/step - loss: 0.0020 - val_loss: 0.0106\n",
            "Epoch 58/100\n",
            "484/484 [==============================] - 8s 17ms/step - loss: 0.0020 - val_loss: 0.0112\n",
            "Epoch 59/100\n",
            "484/484 [==============================] - 9s 18ms/step - loss: 0.0019 - val_loss: 0.0108\n",
            "Epoch 60/100\n",
            "484/484 [==============================] - 7s 15ms/step - loss: 0.0020 - val_loss: 0.0145\n",
            "Epoch 61/100\n",
            "484/484 [==============================] - 9s 18ms/step - loss: 0.0019 - val_loss: 0.0117\n",
            "Epoch 62/100\n",
            "484/484 [==============================] - 8s 17ms/step - loss: 0.0020 - val_loss: 0.0118\n",
            "Epoch 63/100\n",
            "484/484 [==============================] - 7s 15ms/step - loss: 0.0020 - val_loss: 0.0182\n",
            "Epoch 64/100\n",
            "484/484 [==============================] - 8s 17ms/step - loss: 0.0020 - val_loss: 0.0148\n",
            "Epoch 65/100\n",
            "484/484 [==============================] - 8s 17ms/step - loss: 0.0020 - val_loss: 0.0134\n",
            "Epoch 66/100\n",
            "484/484 [==============================] - 8s 16ms/step - loss: 0.0020 - val_loss: 0.0153\n",
            "Epoch 67/100\n",
            "484/484 [==============================] - 8s 17ms/step - loss: 0.0019 - val_loss: 0.0104\n",
            "Epoch 68/100\n",
            "484/484 [==============================] - 9s 18ms/step - loss: 0.0020 - val_loss: 0.0167\n",
            "Epoch 69/100\n",
            "484/484 [==============================] - 8s 16ms/step - loss: 0.0020 - val_loss: 0.0137\n",
            "Epoch 70/100\n",
            "484/484 [==============================] - 9s 19ms/step - loss: 0.0019 - val_loss: 0.0107\n",
            "Epoch 71/100\n",
            "484/484 [==============================] - 8s 17ms/step - loss: 0.0018 - val_loss: 0.0155\n",
            "Epoch 72/100\n",
            "484/484 [==============================] - 7s 15ms/step - loss: 0.0019 - val_loss: 0.0126\n",
            "Epoch 73/100\n",
            "484/484 [==============================] - 8s 17ms/step - loss: 0.0019 - val_loss: 0.0120\n",
            "Epoch 74/100\n",
            "484/484 [==============================] - 8s 17ms/step - loss: 0.0018 - val_loss: 0.0126\n",
            "Epoch 75/100\n",
            "484/484 [==============================] - 8s 16ms/step - loss: 0.0018 - val_loss: 0.0127\n",
            "Epoch 76/100\n",
            "484/484 [==============================] - 8s 17ms/step - loss: 0.0018 - val_loss: 0.0145\n",
            "Epoch 77/100\n",
            "484/484 [==============================] - 8s 17ms/step - loss: 0.0019 - val_loss: 0.0122\n",
            "Epoch 78/100\n",
            "484/484 [==============================] - 8s 17ms/step - loss: 0.0018 - val_loss: 0.0125\n",
            "Epoch 79/100\n",
            "484/484 [==============================] - 8s 17ms/step - loss: 0.0018 - val_loss: 0.0130\n",
            "Epoch 80/100\n",
            "484/484 [==============================] - 8s 16ms/step - loss: 0.0018 - val_loss: 0.0134\n",
            "Epoch 81/100\n",
            "484/484 [==============================] - 8s 16ms/step - loss: 0.0018 - val_loss: 0.0109\n",
            "Epoch 82/100\n",
            "484/484 [==============================] - 9s 18ms/step - loss: 0.0018 - val_loss: 0.0132\n",
            "Epoch 83/100\n",
            "484/484 [==============================] - 8s 16ms/step - loss: 0.0018 - val_loss: 0.0131\n",
            "Epoch 84/100\n",
            "484/484 [==============================] - 8s 17ms/step - loss: 0.0017 - val_loss: 0.0126\n",
            "Epoch 85/100\n",
            "484/484 [==============================] - 9s 18ms/step - loss: 0.0017 - val_loss: 0.0148\n",
            "Epoch 86/100\n",
            "484/484 [==============================] - 8s 16ms/step - loss: 0.0018 - val_loss: 0.0148\n",
            "Epoch 87/100\n",
            "484/484 [==============================] - 8s 16ms/step - loss: 0.0017 - val_loss: 0.0125\n",
            "Epoch 88/100\n",
            "484/484 [==============================] - 9s 19ms/step - loss: 0.0017 - val_loss: 0.0110\n",
            "Epoch 89/100\n",
            "484/484 [==============================] - 8s 17ms/step - loss: 0.0017 - val_loss: 0.0140\n",
            "Epoch 90/100\n",
            "484/484 [==============================] - 8s 17ms/step - loss: 0.0017 - val_loss: 0.0126\n",
            "Epoch 91/100\n",
            "484/484 [==============================] - 9s 18ms/step - loss: 0.0017 - val_loss: 0.0115\n",
            "Epoch 92/100\n",
            "484/484 [==============================] - 8s 17ms/step - loss: 0.0017 - val_loss: 0.0115\n",
            "Epoch 93/100\n",
            "484/484 [==============================] - 8s 16ms/step - loss: 0.0017 - val_loss: 0.0122\n",
            "Epoch 94/100\n",
            "484/484 [==============================] - 9s 18ms/step - loss: 0.0017 - val_loss: 0.0110\n",
            "Epoch 95/100\n",
            "484/484 [==============================] - 8s 17ms/step - loss: 0.0016 - val_loss: 0.0111\n",
            "Epoch 96/100\n",
            "484/484 [==============================] - 8s 17ms/step - loss: 0.0017 - val_loss: 0.0107\n",
            "Epoch 97/100\n",
            "484/484 [==============================] - 9s 18ms/step - loss: 0.0017 - val_loss: 0.0122\n",
            "Epoch 98/100\n",
            "484/484 [==============================] - 8s 17ms/step - loss: 0.0016 - val_loss: 0.0113\n",
            "Epoch 99/100\n",
            "484/484 [==============================] - 8s 17ms/step - loss: 0.0016 - val_loss: 0.0127\n",
            "Epoch 100/100\n",
            "484/484 [==============================] - 9s 18ms/step - loss: 0.0016 - val_loss: 0.0141\n"
          ]
        },
        {
          "output_type": "execute_result",
          "data": {
            "text/plain": [
              "<keras.callbacks.History at 0x7f689c0515d0>"
            ]
          },
          "metadata": {},
          "execution_count": 43
        }
      ]
    }
  ]
}