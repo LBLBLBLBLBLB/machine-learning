{
  "nbformat": 4,
  "nbformat_minor": 0,
  "metadata": {
    "colab": {
      "provenance": [],
      "authorship_tag": "ABX9TyM7s7q2atSE1adgTPGf8ebk",
      "include_colab_link": true
    },
    "kernelspec": {
      "name": "python3",
      "display_name": "Python 3"
    },
    "language_info": {
      "name": "python"
    },
    "accelerator": "GPU",
    "gpuClass": "standard"
  },
  "cells": [
    {
      "cell_type": "markdown",
      "metadata": {
        "id": "view-in-github",
        "colab_type": "text"
      },
      "source": [
        "<a href=\"https://colab.research.google.com/github/LBLBLBLBLBLB/machine-learning/blob/master/ml3_regression_example.ipynb\" target=\"_parent\"><img src=\"https://colab.research.google.com/assets/colab-badge.svg\" alt=\"Open In Colab\"/></a>"
      ]
    },
    {
      "cell_type": "code",
      "execution_count": null,
      "metadata": {
        "id": "33kp5wsV6t29"
      },
      "outputs": [],
      "source": [
        "import pandas as pd\n",
        "import numpy as np"
      ]
    },
    {
      "cell_type": "code",
      "source": [
        "data = pd.read_csv(\"https://raw.githubusercontent.com/Shankhanil/College-Admission-Predicion/master/Admission_Predict.csv\")\n",
        "print(data.head())"
      ],
      "metadata": {
        "id": "1wbAWapH7TtB"
      },
      "execution_count": null,
      "outputs": []
    },
    {
      "cell_type": "code",
      "source": [
        "data.drop(\"Serial No.\",axis = 1, inplace = True)\n",
        "print(data.head())"
      ],
      "metadata": {
        "id": "CVhJa79y7jFg"
      },
      "execution_count": null,
      "outputs": []
    },
    {
      "cell_type": "code",
      "source": [
        "y = data[\"Chance of Admit \"].values\n",
        "X = data.drop(\"Chance of Admit \", axis = 1)\n"
      ],
      "metadata": {
        "id": "_FbCaxBH767g"
      },
      "execution_count": null,
      "outputs": []
    },
    {
      "cell_type": "code",
      "source": [
        "from sklearn.model_selection import train_test_split\n",
        "X_train, X_test, y_train, y_test =train_test_split(X, y, test_size = 0.3, random_state = 1)"
      ],
      "metadata": {
        "id": "i-v7A12B8h45"
      },
      "execution_count": null,
      "outputs": []
    },
    {
      "cell_type": "code",
      "source": [
        "from sklearn.preprocessing import MinMaxScaler\n",
        "myscaler = MinMaxScaler()\n",
        "X_train = myscaler.fit_transform(X_train)\n",
        "X_test = myscaler.transform(X_test)"
      ],
      "metadata": {
        "id": "xzQzUB469RKA"
      },
      "execution_count": null,
      "outputs": []
    },
    {
      "cell_type": "code",
      "source": [
        "from keras.models import Sequential\n",
        "from keras.layers import Dense, Dropout\n"
      ],
      "metadata": {
        "id": "s9_CfHSa99xy"
      },
      "execution_count": null,
      "outputs": []
    },
    {
      "cell_type": "code",
      "source": [
        "model = Sequential()\n",
        "model.add(Dense(units = 30, activation = 'relu', kernel_initializer='normal', input_dim = X_train.shape[1]))\n",
        "model.add(Dropout(rate = 0.5))\n",
        "model.add(Dense(units = 30, activation = 'relu', kernel_initializer='normal'))\n",
        "model.add(Dropout(rate = 0.5))\n",
        "model.add(Dense(units = 30, activation = 'relu', kernel_initializer='normal'))\n",
        "model.add(Dense(units = 1, activation = 'linear', kernel_initializer='normal'))"
      ],
      "metadata": {
        "id": "l5_WWtam-LZB"
      },
      "execution_count": null,
      "outputs": []
    },
    {
      "cell_type": "code",
      "source": [
        "model.compile(optimizer='adam', loss=\"mean_squared_error\", metrics =['mse'])"
      ],
      "metadata": {
        "id": "5B6kvbNU_uo7"
      },
      "execution_count": null,
      "outputs": []
    },
    {
      "cell_type": "code",
      "source": [
        "model.fit(X_train, y_train, batch_size = 40, validation_data=(X_test, y_test), epochs=100)"
      ],
      "metadata": {
        "id": "BP4fuDbRAQ-D"
      },
      "execution_count": null,
      "outputs": []
    }
  ]
}